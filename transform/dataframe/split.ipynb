{
 "cells": [
  {
   "cell_type": "code",
   "execution_count": 2,
   "id": "1fbdf024-37e3-4ac4-a988-c61656c93550",
   "metadata": {},
   "outputs": [
    {
     "name": "stdout",
     "output_type": "stream",
     "text": [
      "[\u001b[95mSTART\u001b[0m] Loading csv...\n",
      "[\u001b[94mINFO\u001b[0m] The dataframe has \u001b[1m5462\u001b[0m rows and \u001b[1m7\u001b[0m columns: Unnamed: 0, ReceiptTS, Source, mktTS, px, qty, side\n"
     ]
    },
    {
     "data": {
      "text/html": [
       "<div>\n",
       "<style scoped>\n",
       "    .dataframe tbody tr th:only-of-type {\n",
       "        vertical-align: middle;\n",
       "    }\n",
       "\n",
       "    .dataframe tbody tr th {\n",
       "        vertical-align: top;\n",
       "    }\n",
       "\n",
       "    .dataframe thead th {\n",
       "        text-align: right;\n",
       "    }\n",
       "</style>\n",
       "<table border=\"1\" class=\"dataframe\">\n",
       "  <thead>\n",
       "    <tr style=\"text-align: right;\">\n",
       "      <th></th>\n",
       "      <th>Unnamed: 0</th>\n",
       "      <th>ReceiptTS</th>\n",
       "      <th>Source</th>\n",
       "      <th>mktTS</th>\n",
       "      <th>px</th>\n",
       "      <th>qty</th>\n",
       "      <th>side</th>\n",
       "    </tr>\n",
       "  </thead>\n",
       "  <tbody>\n",
       "    <tr>\n",
       "      <th>0</th>\n",
       "      <td>0</td>\n",
       "      <td>2021-05-16 16:32:12.499659172+00:00</td>\n",
       "      <td>Binance</td>\n",
       "      <td>2021-05-16 16:32:12.125000+00:00</td>\n",
       "      <td>47575.44</td>\n",
       "      <td>0.005559</td>\n",
       "      <td>Sell</td>\n",
       "    </tr>\n",
       "    <tr>\n",
       "      <th>1</th>\n",
       "      <td>1</td>\n",
       "      <td>2021-05-16 16:32:12.499681090+00:00</td>\n",
       "      <td>Binance</td>\n",
       "      <td>2021-05-16 16:32:12.128000+00:00</td>\n",
       "      <td>47575.44</td>\n",
       "      <td>0.005561</td>\n",
       "      <td>Sell</td>\n",
       "    </tr>\n",
       "    <tr>\n",
       "      <th>2</th>\n",
       "      <td>2</td>\n",
       "      <td>2021-05-16 16:32:12.499705171+00:00</td>\n",
       "      <td>Binance</td>\n",
       "      <td>2021-05-16 16:32:12.129000+00:00</td>\n",
       "      <td>47575.44</td>\n",
       "      <td>0.005559</td>\n",
       "      <td>Sell</td>\n",
       "    </tr>\n",
       "    <tr>\n",
       "      <th>3</th>\n",
       "      <td>3</td>\n",
       "      <td>2021-05-16 16:32:12.501496348+00:00</td>\n",
       "      <td>Binance</td>\n",
       "      <td>2021-05-16 16:32:12.222000+00:00</td>\n",
       "      <td>47577.72</td>\n",
       "      <td>0.000420</td>\n",
       "      <td>Buy</td>\n",
       "    </tr>\n",
       "    <tr>\n",
       "      <th>4</th>\n",
       "      <td>4</td>\n",
       "      <td>2021-05-16 16:32:12.501513926+00:00</td>\n",
       "      <td>Binance</td>\n",
       "      <td>2021-05-16 16:32:12.222000+00:00</td>\n",
       "      <td>47580.00</td>\n",
       "      <td>0.001365</td>\n",
       "      <td>Buy</td>\n",
       "    </tr>\n",
       "  </tbody>\n",
       "</table>\n",
       "</div>"
      ],
      "text/plain": [
       "   Unnamed: 0                            ReceiptTS   Source  \\\n",
       "0           0  2021-05-16 16:32:12.499659172+00:00  Binance   \n",
       "1           1  2021-05-16 16:32:12.499681090+00:00  Binance   \n",
       "2           2  2021-05-16 16:32:12.499705171+00:00  Binance   \n",
       "3           3  2021-05-16 16:32:12.501496348+00:00  Binance   \n",
       "4           4  2021-05-16 16:32:12.501513926+00:00  Binance   \n",
       "\n",
       "                              mktTS        px       qty  side  \n",
       "0  2021-05-16 16:32:12.125000+00:00  47575.44  0.005559  Sell  \n",
       "1  2021-05-16 16:32:12.128000+00:00  47575.44  0.005561  Sell  \n",
       "2  2021-05-16 16:32:12.129000+00:00  47575.44  0.005559  Sell  \n",
       "3  2021-05-16 16:32:12.222000+00:00  47577.72  0.000420   Buy  \n",
       "4  2021-05-16 16:32:12.222000+00:00  47580.00  0.001365   Buy  "
      ]
     },
     "execution_count": 2,
     "metadata": {},
     "output_type": "execute_result"
    }
   ],
   "source": [
    "%run __init__\n",
    "import dataspace\n",
    "\n",
    "ds = dataspace.from_csv(\"../../data/BTC-USDT-1min.csv\")\n",
    "ds.show()"
   ]
  },
  {
   "cell_type": "code",
   "execution_count": 3,
   "id": "3c2bed28-137d-4fe7-b89b-c108b56dae8e",
   "metadata": {},
   "outputs": [
    {
     "name": "stdout",
     "output_type": "stream",
     "text": [
      "['Binance', 'Huobi', 'OKEx', 'FTX', 'FTXUS']\n"
     ]
    }
   ],
   "source": [
    "print(ds.unique_(\"Source\"))"
   ]
  },
  {
   "cell_type": "code",
   "execution_count": 4,
   "id": "808eedc4-b009-4f2d-80b1-d97a4c3056d5",
   "metadata": {},
   "outputs": [
    {
     "data": {
      "text/plain": [
       "dict_keys(['Binance', 'Huobi', 'OKEx', 'FTX', 'FTXUS'])"
      ]
     },
     "execution_count": 4,
     "metadata": {},
     "output_type": "execute_result"
    }
   ],
   "source": [
    "dss = ds.split_(\"Source\")\n",
    "dss.keys()"
   ]
  },
  {
   "cell_type": "code",
   "execution_count": 5,
   "id": "52fdf0a6-b59e-4331-87ef-8d3cf6d94ee4",
   "metadata": {},
   "outputs": [
    {
     "name": "stdout",
     "output_type": "stream",
     "text": [
      "[\u001b[94mINFO\u001b[0m] The dataframe has \u001b[1m4202\u001b[0m rows and \u001b[1m7\u001b[0m columns: Unnamed: 0, ReceiptTS, Source, mktTS, px, qty, side\n"
     ]
    },
    {
     "data": {
      "text/html": [
       "<div>\n",
       "<style scoped>\n",
       "    .dataframe tbody tr th:only-of-type {\n",
       "        vertical-align: middle;\n",
       "    }\n",
       "\n",
       "    .dataframe tbody tr th {\n",
       "        vertical-align: top;\n",
       "    }\n",
       "\n",
       "    .dataframe thead th {\n",
       "        text-align: right;\n",
       "    }\n",
       "</style>\n",
       "<table border=\"1\" class=\"dataframe\">\n",
       "  <thead>\n",
       "    <tr style=\"text-align: right;\">\n",
       "      <th></th>\n",
       "      <th>Unnamed: 0</th>\n",
       "      <th>ReceiptTS</th>\n",
       "      <th>Source</th>\n",
       "      <th>mktTS</th>\n",
       "      <th>px</th>\n",
       "      <th>qty</th>\n",
       "      <th>side</th>\n",
       "    </tr>\n",
       "  </thead>\n",
       "  <tbody>\n",
       "    <tr>\n",
       "      <th>0</th>\n",
       "      <td>0</td>\n",
       "      <td>2021-05-16 16:32:12.499659172+00:00</td>\n",
       "      <td>Binance</td>\n",
       "      <td>2021-05-16 16:32:12.125000+00:00</td>\n",
       "      <td>47575.44</td>\n",
       "      <td>0.005559</td>\n",
       "      <td>Sell</td>\n",
       "    </tr>\n",
       "    <tr>\n",
       "      <th>1</th>\n",
       "      <td>1</td>\n",
       "      <td>2021-05-16 16:32:12.499681090+00:00</td>\n",
       "      <td>Binance</td>\n",
       "      <td>2021-05-16 16:32:12.128000+00:00</td>\n",
       "      <td>47575.44</td>\n",
       "      <td>0.005561</td>\n",
       "      <td>Sell</td>\n",
       "    </tr>\n",
       "    <tr>\n",
       "      <th>2</th>\n",
       "      <td>2</td>\n",
       "      <td>2021-05-16 16:32:12.499705171+00:00</td>\n",
       "      <td>Binance</td>\n",
       "      <td>2021-05-16 16:32:12.129000+00:00</td>\n",
       "      <td>47575.44</td>\n",
       "      <td>0.005559</td>\n",
       "      <td>Sell</td>\n",
       "    </tr>\n",
       "    <tr>\n",
       "      <th>3</th>\n",
       "      <td>3</td>\n",
       "      <td>2021-05-16 16:32:12.501496348+00:00</td>\n",
       "      <td>Binance</td>\n",
       "      <td>2021-05-16 16:32:12.222000+00:00</td>\n",
       "      <td>47577.72</td>\n",
       "      <td>0.000420</td>\n",
       "      <td>Buy</td>\n",
       "    </tr>\n",
       "    <tr>\n",
       "      <th>4</th>\n",
       "      <td>4</td>\n",
       "      <td>2021-05-16 16:32:12.501513926+00:00</td>\n",
       "      <td>Binance</td>\n",
       "      <td>2021-05-16 16:32:12.222000+00:00</td>\n",
       "      <td>47580.00</td>\n",
       "      <td>0.001365</td>\n",
       "      <td>Buy</td>\n",
       "    </tr>\n",
       "  </tbody>\n",
       "</table>\n",
       "</div>"
      ],
      "text/plain": [
       "   Unnamed: 0                            ReceiptTS   Source  \\\n",
       "0           0  2021-05-16 16:32:12.499659172+00:00  Binance   \n",
       "1           1  2021-05-16 16:32:12.499681090+00:00  Binance   \n",
       "2           2  2021-05-16 16:32:12.499705171+00:00  Binance   \n",
       "3           3  2021-05-16 16:32:12.501496348+00:00  Binance   \n",
       "4           4  2021-05-16 16:32:12.501513926+00:00  Binance   \n",
       "\n",
       "                              mktTS        px       qty  side  \n",
       "0  2021-05-16 16:32:12.125000+00:00  47575.44  0.005559  Sell  \n",
       "1  2021-05-16 16:32:12.128000+00:00  47575.44  0.005561  Sell  \n",
       "2  2021-05-16 16:32:12.129000+00:00  47575.44  0.005559  Sell  \n",
       "3  2021-05-16 16:32:12.222000+00:00  47577.72  0.000420   Buy  \n",
       "4  2021-05-16 16:32:12.222000+00:00  47580.00  0.001365   Buy  "
      ]
     },
     "execution_count": 5,
     "metadata": {},
     "output_type": "execute_result"
    }
   ],
   "source": [
    "dss[\"Binance\"].show()"
   ]
  },
  {
   "cell_type": "code",
   "execution_count": null,
   "id": "830e97bd-4861-45f6-983c-4d84a82aa43a",
   "metadata": {},
   "outputs": [],
   "source": []
  }
 ],
 "metadata": {
  "kernelspec": {
   "display_name": "Python 3 (ipykernel)",
   "language": "python",
   "name": "python3"
  },
  "language_info": {
   "codemirror_mode": {
    "name": "ipython",
    "version": 3
   },
   "file_extension": ".py",
   "mimetype": "text/x-python",
   "name": "python",
   "nbconvert_exporter": "python",
   "pygments_lexer": "ipython3",
   "version": "3.10.8"
  }
 },
 "nbformat": 4,
 "nbformat_minor": 5
}
