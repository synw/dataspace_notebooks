{
 "cells": [
  {
   "cell_type": "code",
   "execution_count": 3,
   "id": "b80fc43a-4a1d-40e2-a56e-5ebeb8ea0961",
   "metadata": {},
   "outputs": [
    {
     "name": "stdout",
     "output_type": "stream",
     "text": [
      "[\u001b[95mSTART\u001b[0m] Loading csv...\n",
      "[\u001b[95mEND\u001b[0m] Csv file loaded in \u001b[1m0.22.706\u001b[0m seconds\n",
      "[\u001b[94mINFO\u001b[0m] The dataframe has \u001b[1m5462\u001b[0m rows and \u001b[1m7\u001b[0m columns: column_0, ReceiptTS, Source, mktTS, px, qty, side\n"
     ]
    },
    {
     "data": {
      "text/html": [
       "<div><style>\n",
       ".dataframe > thead > tr > th,\n",
       ".dataframe > tbody > tr > td {\n",
       "  text-align: right;\n",
       "}\n",
       "</style>\n",
       "<small>shape: (5, 7)</small><table border=\"1\" class=\"dataframe\"><thead><tr><th>column_0</th><th>ReceiptTS</th><th>Source</th><th>mktTS</th><th>px</th><th>qty</th><th>side</th></tr><tr><td>i64</td><td>datetime[ns, UTC]</td><td>str</td><td>datetime[ns, UTC]</td><td>f64</td><td>f64</td><td>str</td></tr></thead><tbody><tr><td>0</td><td>2021-05-16 16:32:12.499659172 UTC</td><td>&quot;Binance&quot;</td><td>2021-05-16 16:32:12.125 UTC</td><td>47575.44</td><td>0.005559</td><td>&quot;Sell&quot;</td></tr><tr><td>1</td><td>2021-05-16 16:32:12.499681090 UTC</td><td>&quot;Binance&quot;</td><td>2021-05-16 16:32:12.128 UTC</td><td>47575.44</td><td>0.005561</td><td>&quot;Sell&quot;</td></tr><tr><td>2</td><td>2021-05-16 16:32:12.499705171 UTC</td><td>&quot;Binance&quot;</td><td>2021-05-16 16:32:12.129 UTC</td><td>47575.44</td><td>0.005559</td><td>&quot;Sell&quot;</td></tr><tr><td>3</td><td>2021-05-16 16:32:12.501496348 UTC</td><td>&quot;Binance&quot;</td><td>2021-05-16 16:32:12.222 UTC</td><td>47577.72</td><td>0.00042</td><td>&quot;Buy&quot;</td></tr><tr><td>4</td><td>2021-05-16 16:32:12.501513926 UTC</td><td>&quot;Binance&quot;</td><td>2021-05-16 16:32:12.222 UTC</td><td>47580.0</td><td>0.001365</td><td>&quot;Buy&quot;</td></tr></tbody></table></div>"
      ],
      "text/plain": [
       "shape: (5, 7)\n",
       "┌──────────┬────────────────────┬─────────┬───────────────────────────┬──────────┬──────────┬──────┐\n",
       "│ column_0 ┆ ReceiptTS          ┆ Source  ┆ mktTS                     ┆ px       ┆ qty      ┆ side │\n",
       "│ ---      ┆ ---                ┆ ---     ┆ ---                       ┆ ---      ┆ ---      ┆ ---  │\n",
       "│ i64      ┆ datetime[ns, UTC]  ┆ str     ┆ datetime[ns, UTC]         ┆ f64      ┆ f64      ┆ str  │\n",
       "╞══════════╪════════════════════╪═════════╪═══════════════════════════╪══════════╪══════════╪══════╡\n",
       "│ 0        ┆ 2021-05-16         ┆ Binance ┆ 2021-05-16 16:32:12.125   ┆ 47575.44 ┆ 0.005559 ┆ Sell │\n",
       "│          ┆ 16:32:12.499659172 ┆         ┆ UTC                       ┆          ┆          ┆      │\n",
       "│          ┆ UT…                ┆         ┆                           ┆          ┆          ┆      │\n",
       "│ 1        ┆ 2021-05-16         ┆ Binance ┆ 2021-05-16 16:32:12.128   ┆ 47575.44 ┆ 0.005561 ┆ Sell │\n",
       "│          ┆ 16:32:12.499681090 ┆         ┆ UTC                       ┆          ┆          ┆      │\n",
       "│          ┆ UT…                ┆         ┆                           ┆          ┆          ┆      │\n",
       "│ 2        ┆ 2021-05-16         ┆ Binance ┆ 2021-05-16 16:32:12.129   ┆ 47575.44 ┆ 0.005559 ┆ Sell │\n",
       "│          ┆ 16:32:12.499705171 ┆         ┆ UTC                       ┆          ┆          ┆      │\n",
       "│          ┆ UT…                ┆         ┆                           ┆          ┆          ┆      │\n",
       "│ 3        ┆ 2021-05-16         ┆ Binance ┆ 2021-05-16 16:32:12.222   ┆ 47577.72 ┆ 0.00042  ┆ Buy  │\n",
       "│          ┆ 16:32:12.501496348 ┆         ┆ UTC                       ┆          ┆          ┆      │\n",
       "│          ┆ UT…                ┆         ┆                           ┆          ┆          ┆      │\n",
       "│ 4        ┆ 2021-05-16         ┆ Binance ┆ 2021-05-16 16:32:12.222   ┆ 47580.0  ┆ 0.001365 ┆ Buy  │\n",
       "│          ┆ 16:32:12.501513926 ┆         ┆ UTC                       ┆          ┆          ┆      │\n",
       "│          ┆ UT…                ┆         ┆                           ┆          ┆          ┆      │\n",
       "└──────────┴────────────────────┴─────────┴───────────────────────────┴──────────┴──────────┴──────┘"
      ]
     },
     "execution_count": 3,
     "metadata": {},
     "output_type": "execute_result"
    }
   ],
   "source": [
    "%run __init__\n",
    "import dataspace\n",
    "\n",
    "ds = dataspace.from_csv(\"../../data/BTC-USDT-1min.csv\")\n",
    "ds.show()"
   ]
  },
  {
   "cell_type": "code",
   "execution_count": 4,
   "id": "1315efd6-978b-4487-9e88-66912bf4e421",
   "metadata": {},
   "outputs": [
    {
     "name": "stdout",
     "output_type": "stream",
     "text": [
      "[\u001b[94mINFO\u001b[0m] The dataframe has \u001b[1m5462\u001b[0m rows and \u001b[1m2\u001b[0m columns: mktTS, qty\n"
     ]
    },
    {
     "data": {
      "text/html": [
       "<div><style>\n",
       ".dataframe > thead > tr > th,\n",
       ".dataframe > tbody > tr > td {\n",
       "  text-align: right;\n",
       "}\n",
       "</style>\n",
       "<small>shape: (5, 2)</small><table border=\"1\" class=\"dataframe\"><thead><tr><th>mktTS</th><th>qty</th></tr><tr><td>datetime[ns, UTC]</td><td>f64</td></tr></thead><tbody><tr><td>2021-05-16 16:32:12.125 UTC</td><td>0.005559</td></tr><tr><td>2021-05-16 16:32:12.128 UTC</td><td>0.005561</td></tr><tr><td>2021-05-16 16:32:12.129 UTC</td><td>0.005559</td></tr><tr><td>2021-05-16 16:32:12.222 UTC</td><td>0.00042</td></tr><tr><td>2021-05-16 16:32:12.222 UTC</td><td>0.001365</td></tr></tbody></table></div>"
      ],
      "text/plain": [
       "shape: (5, 2)\n",
       "┌─────────────────────────────┬──────────┐\n",
       "│ mktTS                       ┆ qty      │\n",
       "│ ---                         ┆ ---      │\n",
       "│ datetime[ns, UTC]           ┆ f64      │\n",
       "╞═════════════════════════════╪══════════╡\n",
       "│ 2021-05-16 16:32:12.125 UTC ┆ 0.005559 │\n",
       "│ 2021-05-16 16:32:12.128 UTC ┆ 0.005561 │\n",
       "│ 2021-05-16 16:32:12.129 UTC ┆ 0.005559 │\n",
       "│ 2021-05-16 16:32:12.222 UTC ┆ 0.00042  │\n",
       "│ 2021-05-16 16:32:12.222 UTC ┆ 0.001365 │\n",
       "└─────────────────────────────┴──────────┘"
      ]
     },
     "execution_count": 4,
     "metadata": {},
     "output_type": "execute_result"
    }
   ],
   "source": [
    "ds.keep(\"mktTS\", \"qty\")\n",
    "ds.show()"
   ]
  },
  {
   "cell_type": "code",
   "execution_count": 6,
   "id": "77a38361-8491-4106-9f96-9a0651734789",
   "metadata": {},
   "outputs": [
    {
     "name": "stdout",
     "output_type": "stream",
     "text": [
      "[\u001b[92mOK\u001b[0m] Data resampled by 1s\n",
      "[\u001b[94mINFO\u001b[0m] Column qty renamed\n",
      "[\u001b[94mINFO\u001b[0m] The dataframe has \u001b[1m55\u001b[0m rows and \u001b[1m3\u001b[0m columns: mktTS, Market volume, count\n"
     ]
    },
    {
     "data": {
      "text/html": [
       "<div><style>\n",
       ".dataframe > thead > tr > th,\n",
       ".dataframe > tbody > tr > td {\n",
       "  text-align: right;\n",
       "}\n",
       "</style>\n",
       "<small>shape: (5, 3)</small><table border=\"1\" class=\"dataframe\"><thead><tr><th>mktTS</th><th>Market volume</th><th>count</th></tr><tr><td>datetime[ns, UTC]</td><td>f64</td><td>u32</td></tr></thead><tbody><tr><td>2021-05-16 16:32:12 UTC</td><td>3.449949</td><td>76</td></tr><tr><td>2021-05-16 16:32:13 UTC</td><td>2.434804</td><td>59</td></tr><tr><td>2021-05-16 16:32:14 UTC</td><td>0.002</td><td>1</td></tr><tr><td>2021-05-16 16:32:15 UTC</td><td>0.006124</td><td>3</td></tr><tr><td>2021-05-16 16:32:16 UTC</td><td>1.186467</td><td>51</td></tr></tbody></table></div>"
      ],
      "text/plain": [
       "shape: (5, 3)\n",
       "┌─────────────────────────┬───────────────┬───────┐\n",
       "│ mktTS                   ┆ Market volume ┆ count │\n",
       "│ ---                     ┆ ---           ┆ ---   │\n",
       "│ datetime[ns, UTC]       ┆ f64           ┆ u32   │\n",
       "╞═════════════════════════╪═══════════════╪═══════╡\n",
       "│ 2021-05-16 16:32:12 UTC ┆ 3.449949      ┆ 76    │\n",
       "│ 2021-05-16 16:32:13 UTC ┆ 2.434804      ┆ 59    │\n",
       "│ 2021-05-16 16:32:14 UTC ┆ 0.002         ┆ 1     │\n",
       "│ 2021-05-16 16:32:15 UTC ┆ 0.006124      ┆ 3     │\n",
       "│ 2021-05-16 16:32:16 UTC ┆ 1.186467      ┆ 51    │\n",
       "└─────────────────────────┴───────────────┴───────┘"
      ]
     },
     "execution_count": 6,
     "metadata": {},
     "output_type": "execute_result"
    }
   ],
   "source": [
    "ds.rsum(\"mktTS\",\"1s\", \"qty\")\n",
    "ds.rename(\"qty\", \"Market volume\")\n",
    "ds.show()"
   ]
  },
  {
   "cell_type": "code",
   "execution_count": null,
   "id": "e9a5d5da-849f-4ed2-adb5-c255776207fe",
   "metadata": {},
   "outputs": [],
   "source": []
  }
 ],
 "metadata": {
  "kernelspec": {
   "display_name": "Python 3 (ipykernel)",
   "language": "python",
   "name": "python3"
  },
  "language_info": {
   "codemirror_mode": {
    "name": "ipython",
    "version": 3
   },
   "file_extension": ".py",
   "mimetype": "text/x-python",
   "name": "python",
   "nbconvert_exporter": "python",
   "pygments_lexer": "ipython3",
   "version": "3.10.8"
  }
 },
 "nbformat": 4,
 "nbformat_minor": 5
}
