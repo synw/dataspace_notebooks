{
 "cells": [
  {
   "cell_type": "code",
   "execution_count": 4,
   "id": "0abf06b9-020e-472c-b300-eb8e6ae03483",
   "metadata": {},
   "outputs": [],
   "source": [
    "%run __init__\n",
    "import polars as pl\n",
    "import dataspace"
   ]
  },
  {
   "cell_type": "code",
   "execution_count": 5,
   "id": "80072bd9-0792-4b5a-8857-a5612ebbff73",
   "metadata": {},
   "outputs": [
    {
     "name": "stdout",
     "output_type": "stream",
     "text": [
      "[\u001b[94mINFO\u001b[0m] The dataframe has \u001b[1m2\u001b[0m rows and \u001b[1m2\u001b[0m columns: col1, col2\n"
     ]
    },
    {
     "data": {
      "text/html": [
       "<div><style>\n",
       ".dataframe > thead > tr > th,\n",
       ".dataframe > tbody > tr > td {\n",
       "  text-align: right;\n",
       "}\n",
       "</style>\n",
       "<small>shape: (2, 2)</small><table border=\"1\" class=\"dataframe\"><thead><tr><th>col1</th><th>col2</th></tr><tr><td>i64</td><td>str</td></tr></thead><tbody><tr><td>1</td><td>&quot;foo&quot;</td></tr><tr><td>2</td><td>&quot;bar&quot;</td></tr></tbody></table></div>"
      ],
      "text/plain": [
       "shape: (2, 2)\n",
       "┌──────┬──────┐\n",
       "│ col1 ┆ col2 │\n",
       "│ ---  ┆ ---  │\n",
       "│ i64  ┆ str  │\n",
       "╞══════╪══════╡\n",
       "│ 1    ┆ foo  │\n",
       "│ 2    ┆ bar  │\n",
       "└──────┴──────┘"
      ]
     },
     "execution_count": 5,
     "metadata": {},
     "output_type": "execute_result"
    }
   ],
   "source": [
    "data = {\"col1\": [1, 2], \"col2\": [\"foo\", \"bar\"]}\n",
    "df = pl.DataFrame(data)\n",
    "ds = dataspace.from_df(df)\n",
    "ds.show()"
   ]
  },
  {
   "cell_type": "code",
   "execution_count": 6,
   "id": "8989101b-3c15-4f35-89e7-9d995e665b45",
   "metadata": {},
   "outputs": [
    {
     "name": "stdout",
     "output_type": "stream",
     "text": [
      "[\u001b[94mINFO\u001b[0m] The dataframe has \u001b[1m3\u001b[0m rows and \u001b[1m2\u001b[0m columns: col1, col2\n"
     ]
    },
    {
     "data": {
      "text/html": [
       "<div><style>\n",
       ".dataframe > thead > tr > th,\n",
       ".dataframe > tbody > tr > td {\n",
       "  text-align: right;\n",
       "}\n",
       "</style>\n",
       "<small>shape: (3, 2)</small><table border=\"1\" class=\"dataframe\"><thead><tr><th>col1</th><th>col2</th></tr><tr><td>i64</td><td>str</td></tr></thead><tbody><tr><td>1</td><td>&quot;foo&quot;</td></tr><tr><td>2</td><td>&quot;bar&quot;</td></tr><tr><td>3</td><td>&quot;baz&quot;</td></tr></tbody></table></div>"
      ],
      "text/plain": [
       "shape: (3, 2)\n",
       "┌──────┬──────┐\n",
       "│ col1 ┆ col2 │\n",
       "│ ---  ┆ ---  │\n",
       "│ i64  ┆ str  │\n",
       "╞══════╪══════╡\n",
       "│ 1    ┆ foo  │\n",
       "│ 2    ┆ bar  │\n",
       "│ 3    ┆ baz  │\n",
       "└──────┴──────┘"
      ]
     },
     "execution_count": 6,
     "metadata": {},
     "output_type": "execute_result"
    }
   ],
   "source": [
    "ds.append([3,\"baz\"])\n",
    "ds.show()"
   ]
  },
  {
   "cell_type": "code",
   "execution_count": 7,
   "id": "98ceba8c-ed0c-4b68-97e2-806fc1e6e46b",
   "metadata": {
    "tags": []
   },
   "outputs": [
    {
     "name": "stdout",
     "output_type": "stream",
     "text": [
      "[\u001b[94mINFO\u001b[0m] The dataframe has \u001b[1m5\u001b[0m rows and \u001b[1m2\u001b[0m columns: col1, col2\n"
     ]
    },
    {
     "data": {
      "text/html": [
       "<div><style>\n",
       ".dataframe > thead > tr > th,\n",
       ".dataframe > tbody > tr > td {\n",
       "  text-align: right;\n",
       "}\n",
       "</style>\n",
       "<small>shape: (5, 2)</small><table border=\"1\" class=\"dataframe\"><thead><tr><th>col1</th><th>col2</th></tr><tr><td>i64</td><td>str</td></tr></thead><tbody><tr><td>1</td><td>&quot;foo&quot;</td></tr><tr><td>2</td><td>&quot;bar&quot;</td></tr><tr><td>3</td><td>&quot;baz&quot;</td></tr><tr><td>4</td><td>&quot;biz&quot;</td></tr><tr><td>5</td><td>&quot;boz&quot;</td></tr></tbody></table></div>"
      ],
      "text/plain": [
       "shape: (5, 2)\n",
       "┌──────┬──────┐\n",
       "│ col1 ┆ col2 │\n",
       "│ ---  ┆ ---  │\n",
       "│ i64  ┆ str  │\n",
       "╞══════╪══════╡\n",
       "│ 1    ┆ foo  │\n",
       "│ 2    ┆ bar  │\n",
       "│ 3    ┆ baz  │\n",
       "│ 4    ┆ biz  │\n",
       "│ 5    ┆ boz  │\n",
       "└──────┴──────┘"
      ]
     },
     "execution_count": 7,
     "metadata": {},
     "output_type": "execute_result"
    }
   ],
   "source": [
    "ds.mappend([[4,\"biz\"],[5,\"boz\"]])\n",
    "ds.show()"
   ]
  }
 ],
 "metadata": {
  "kernelspec": {
   "display_name": "Python 3 (ipykernel)",
   "language": "python",
   "name": "python3"
  },
  "language_info": {
   "codemirror_mode": {
    "name": "ipython",
    "version": 3
   },
   "file_extension": ".py",
   "mimetype": "text/x-python",
   "name": "python",
   "nbconvert_exporter": "python",
   "pygments_lexer": "ipython3",
   "version": "3.10.8"
  }
 },
 "nbformat": 4,
 "nbformat_minor": 5
}
