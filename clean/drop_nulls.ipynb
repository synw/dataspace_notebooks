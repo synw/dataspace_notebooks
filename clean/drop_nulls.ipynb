{
 "cells": [
  {
   "cell_type": "code",
   "execution_count": 7,
   "id": "c917fe38-26dd-4c2e-b25c-b6b2f74dc372",
   "metadata": {},
   "outputs": [],
   "source": [
    "%run __init__\n",
    "import polars as pl\n",
    "import dataspace"
   ]
  },
  {
   "cell_type": "code",
   "execution_count": 8,
   "id": "cc13528b-f142-48be-9c15-121c0d84f714",
   "metadata": {},
   "outputs": [
    {
     "name": "stdout",
     "output_type": "stream",
     "text": [
      "[\u001b[94mINFO\u001b[0m] The dataframe has \u001b[1m3\u001b[0m rows and \u001b[1m2\u001b[0m columns: col1, col2\n"
     ]
    },
    {
     "data": {
      "text/html": [
       "<div><style>\n",
       ".dataframe > thead > tr > th,\n",
       ".dataframe > tbody > tr > td {\n",
       "  text-align: right;\n",
       "}\n",
       "</style>\n",
       "<small>shape: (3, 2)</small><table border=\"1\" class=\"dataframe\"><thead><tr><th>col1</th><th>col2</th></tr><tr><td>i64</td><td>i64</td></tr></thead><tbody><tr><td>14</td><td>2</td></tr><tr><td>8</td><td>null</td></tr><tr><td>null</td><td>null</td></tr></tbody></table></div>"
      ],
      "text/plain": [
       "shape: (3, 2)\n",
       "┌──────┬──────┐\n",
       "│ col1 ┆ col2 │\n",
       "│ ---  ┆ ---  │\n",
       "│ i64  ┆ i64  │\n",
       "╞══════╪══════╡\n",
       "│ 14   ┆ 2    │\n",
       "│ 8    ┆ null │\n",
       "│ null ┆ null │\n",
       "└──────┴──────┘"
      ]
     },
     "execution_count": 8,
     "metadata": {},
     "output_type": "execute_result"
    }
   ],
   "source": [
    "data = {\"col1\": [14, 8, None], \"col2\": [2, None, None]}\n",
    "df = pl.DataFrame(data)\n",
    "ds = dataspace.from_df(df)\n",
    "ds.show()"
   ]
  },
  {
   "cell_type": "markdown",
   "id": "e3b797ad-2e80-4738-b973-d765ac902dd3",
   "metadata": {},
   "source": [
    "## Drop rows based on a column's NaN values"
   ]
  },
  {
   "cell_type": "code",
   "execution_count": 9,
   "id": "d2b92898-0e18-4856-9259-f1f3c028bd1e",
   "metadata": {},
   "outputs": [
    {
     "name": "stdout",
     "output_type": "stream",
     "text": [
      "[\u001b[94mINFO\u001b[0m] The dataframe has \u001b[1m2\u001b[0m rows and \u001b[1m2\u001b[0m columns: col1, col2\n"
     ]
    },
    {
     "data": {
      "text/html": [
       "<div><style>\n",
       ".dataframe > thead > tr > th,\n",
       ".dataframe > tbody > tr > td {\n",
       "  text-align: right;\n",
       "}\n",
       "</style>\n",
       "<small>shape: (2, 2)</small><table border=\"1\" class=\"dataframe\"><thead><tr><th>col1</th><th>col2</th></tr><tr><td>i64</td><td>i64</td></tr></thead><tbody><tr><td>14</td><td>2</td></tr><tr><td>8</td><td>null</td></tr></tbody></table></div>"
      ],
      "text/plain": [
       "shape: (2, 2)\n",
       "┌──────┬──────┐\n",
       "│ col1 ┆ col2 │\n",
       "│ ---  ┆ ---  │\n",
       "│ i64  ┆ i64  │\n",
       "╞══════╪══════╡\n",
       "│ 14   ┆ 2    │\n",
       "│ 8    ┆ null │\n",
       "└──────┴──────┘"
      ]
     },
     "execution_count": 9,
     "metadata": {},
     "output_type": "execute_result"
    }
   ],
   "source": [
    "ds.drop_all_nulls()\n",
    "ds.show()"
   ]
  },
  {
   "cell_type": "code",
   "execution_count": 10,
   "id": "976bb592-65f8-46a9-98e4-135b4bac8586",
   "metadata": {},
   "outputs": [
    {
     "name": "stdout",
     "output_type": "stream",
     "text": [
      "[\u001b[94mINFO\u001b[0m] The dataframe has \u001b[1m1\u001b[0m rows and \u001b[1m2\u001b[0m columns: col1, col2\n"
     ]
    },
    {
     "data": {
      "text/html": [
       "<div><style>\n",
       ".dataframe > thead > tr > th,\n",
       ".dataframe > tbody > tr > td {\n",
       "  text-align: right;\n",
       "}\n",
       "</style>\n",
       "<small>shape: (1, 2)</small><table border=\"1\" class=\"dataframe\"><thead><tr><th>col1</th><th>col2</th></tr><tr><td>i64</td><td>i64</td></tr></thead><tbody><tr><td>14</td><td>2</td></tr></tbody></table></div>"
      ],
      "text/plain": [
       "shape: (1, 2)\n",
       "┌──────┬──────┐\n",
       "│ col1 ┆ col2 │\n",
       "│ ---  ┆ ---  │\n",
       "│ i64  ┆ i64  │\n",
       "╞══════╪══════╡\n",
       "│ 14   ┆ 2    │\n",
       "└──────┴──────┘"
      ]
     },
     "execution_count": 10,
     "metadata": {},
     "output_type": "execute_result"
    }
   ],
   "source": [
    "ds.drop_any_nulls(\"col2\")\n",
    "ds.show()"
   ]
  },
  {
   "cell_type": "code",
   "execution_count": null,
   "id": "6b91c189-ed4c-49c3-bd78-3e4bc921ae91",
   "metadata": {},
   "outputs": [],
   "source": []
  }
 ],
 "metadata": {
  "kernelspec": {
   "display_name": "Python 3 (ipykernel)",
   "language": "python",
   "name": "python3"
  },
  "language_info": {
   "codemirror_mode": {
    "name": "ipython",
    "version": 3
   },
   "file_extension": ".py",
   "mimetype": "text/x-python",
   "name": "python",
   "nbconvert_exporter": "python",
   "pygments_lexer": "ipython3",
   "version": "3.10.8"
  }
 },
 "nbformat": 4,
 "nbformat_minor": 5
}
